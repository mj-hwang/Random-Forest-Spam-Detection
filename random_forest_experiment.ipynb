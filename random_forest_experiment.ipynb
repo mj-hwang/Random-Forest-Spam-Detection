{
 "cells": [
  {
   "cell_type": "markdown",
   "metadata": {},
   "source": [
    "# Random Forest for Spam Detection\n",
    "\n",
    "This notebook contains a simple example of using decision tree and random forest for spam detection. We aim to fit the hyperparameter in the training and validation steps and report the test set performance. Additionally, this notebook provides how to visualize the tree structure or the split of a node. "
   ]
  },
  {
   "cell_type": "code",
   "execution_count": 1,
   "metadata": {},
   "outputs": [],
   "source": [
    "import numpy as np\n",
    "import scipy.io\n",
    "from scipy import stats\n",
    "import random\n",
    "import matplotlib.pyplot as plt\n",
    "\n",
    "from random_forest import *"
   ]
  },
  {
   "cell_type": "code",
   "execution_count": 2,
   "metadata": {},
   "outputs": [],
   "source": [
    "features = [\"pain\", \"private\", \"bank\", \"money\", \"drug\", \"spam\", \"prescription\",\n",
    "        \"creative\", \"height\", \"featured\", \"differ\", \"width\", \"other\",\n",
    "        \"energy\", \"business\", \"message\", \"volumes\", \"revision\", \"path\",\n",
    "        \"meter\", \"memo\", \"planning\", \"pleased\", \"record\", \"out\",\n",
    "        \"semicolon\", \"dollar\", \"sharp\", \"exclamation\", \"parenthesis\",\n",
    "        \"square_bracket\", \"ampersand\"]\n",
    "\n",
    "assert len(features) == 32\n",
    "\n",
    "# Load spam data\n",
    "path_train = 'datasets/spam-dataset/spam_data.mat'\n",
    "data = scipy.io.loadmat(path_train)\n",
    "X = data['training_data']\n",
    "y = np.squeeze(data['training_labels'])\n",
    "class_names = [\"Ham\", \"Spam\"]"
   ]
  },
  {
   "cell_type": "markdown",
   "metadata": {},
   "source": [
    "## 1. Hyperparameter Fitting"
   ]
  },
  {
   "cell_type": "code",
   "execution_count": 3,
   "metadata": {},
   "outputs": [],
   "source": [
    "train_indices = np.random.choice(range(X.shape[0]), \n",
    "                                 int(X.shape[0] * 0.8),\n",
    "                                 replace=False)\n",
    "\n",
    "train_mask = np.zeros(X.shape[0], dtype=bool)\n",
    "train_mask[train_indices] = True\n",
    "\n",
    "X_train = X[train_mask]\n",
    "y_train = y[train_mask]\n",
    "X_validation = X[~train_mask]\n",
    "y_validation = y[~train_mask]"
   ]
  },
  {
   "cell_type": "markdown",
   "metadata": {},
   "source": [
    "### Decision Tree"
   ]
  },
  {
   "cell_type": "code",
   "execution_count": 5,
   "metadata": {},
   "outputs": [],
   "source": [
    "tree_accs = []\n",
    "depths = [5, 10, 15, 20, 25, 30]\n",
    "for max_depth in depths:\n",
    "    classifier = DecisionTree(max_depth=max_depth, impurity_thresh=0.01)\n",
    "    classifier.train(X_train, y_train, 0)\n",
    "    y_validation_hat = classifier.predict(X_validation)\n",
    "    acc = sum(y_validation==y_validation_hat) / len(y_validation_hat)\n",
    "    tree_accs.append(acc)"
   ]
  },
  {
   "cell_type": "code",
   "execution_count": 9,
   "metadata": {},
   "outputs": [
    {
     "data": {
      "text/plain": [
       "[<matplotlib.lines.Line2D at 0x22ad20adcc0>]"
      ]
     },
     "execution_count": 9,
     "metadata": {},
     "output_type": "execute_result"
    },
    {
     "data": {
      "image/png": "[encoded data removed]",
      "text/plain": [
       "<Figure size 432x288 with 1 Axes>"
      ]
     },
     "metadata": {
      "needs_background": "light"
     },
     "output_type": "display_data"
    }
   ],
   "source": [
    "plt.plot(depths, tree_accs)"
   ]
  },
  {
   "cell_type": "markdown",
   "metadata": {},
   "source": [
    "**we will proceed with 20 for the decision tree.**"
   ]
  },
  {
   "cell_type": "markdown",
   "metadata": {},
   "source": [
    "### Random Forest\n",
    "\n",
    "I first fix 20 as max_depth\n",
    "I got (0.7, 0.7) as"
   ]
  },
  {
   "cell_type": "code",
   "execution_count": 12,
   "metadata": {},
   "outputs": [],
   "source": [
    "forest_accs = []\n",
    "nums = [3, 5, 7, 9]\n",
    "for num_trees in nums:\n",
    "    classifier = RandomForest(bagging_rate=0.7,\n",
    "                              feature_rate=0.7,\n",
    "                              num_trees=num_trees, \n",
    "                              max_depth=20, \n",
    "                              impurity_thresh=0.01)\n",
    "    classifier.fit(X_train, y_train)\n",
    "    y_validation_hat = classifier.predict(X_validation)\n",
    "    acc = sum(y_validation==y_validation_hat) / len(y_validation_hat)\n",
    "    forest_accs.append(acc)"
   ]
  },
  {
   "cell_type": "code",
   "execution_count": 13,
   "metadata": {
    "scrolled": true
   },
   "outputs": [
    {
     "data": {
      "text/plain": [
       "[<matplotlib.lines.Line2D at 0x27d0cc38e10>]"
      ]
     },
     "execution_count": 13,
     "metadata": {},
     "output_type": "execute_result"
    },
    {
     "data": {
      "image/png": "[encoded data removed]",
      "text/plain": [
       "<Figure size 432x288 with 1 Axes>"
      ]
     },
     "metadata": {
      "needs_background": "light"
     },
     "output_type": "display_data"
    }
   ],
   "source": [
    "plt.plot(nums, forest_accs)"
   ]
  },
  {
   "cell_type": "markdown",
   "metadata": {},
   "source": [
    "## 2. Performance Evaluation"
   ]
  },
  {
   "cell_type": "markdown",
   "metadata": {},
   "source": [
    "### Decision Tree"
   ]
  },
  {
   "cell_type": "code",
   "execution_count": 22,
   "metadata": {},
   "outputs": [
    {
     "name": "stdout",
     "output_type": "stream",
     "text": [
      "train accuracy:  0.8339376359680928\n",
      "validation accuracy:  0.8270531400966183\n"
     ]
    }
   ],
   "source": [
    "classifier = DecisionTree(max_depth=20, impurity_thresh=0.01)\n",
    "classifier.train(X_train, y_train, 0)\n",
    "\n",
    "y_train_hat = classifier.predict(X_train)\n",
    "y_validation_hat = classifier.predict(X_validation)\n",
    "\n",
    "train_acc = sum(y_train==y_train_hat) / len(y_train_hat)\n",
    "valid_acc = sum(y_validation==y_validation_hat) / len(y_validation_hat)\n",
    "\n",
    "print(\"train accuracy: \", train_acc)\n",
    "print(\"validation accuracy: \", valid_acc)"
   ]
  },
  {
   "cell_type": "markdown",
   "metadata": {},
   "source": [
    "### Random Forest"
   ]
  },
  {
   "cell_type": "code",
   "execution_count": 24,
   "metadata": {},
   "outputs": [
    {
     "name": "stdout",
     "output_type": "stream",
     "text": [
      "train accuracy:  0.8498912255257433\n",
      "validation accuracy:  0.8309178743961353\n"
     ]
    }
   ],
   "source": [
    "classifier = RandomForest(bagging_rate=0.7,\n",
    "                          feature_rate=0.7,\n",
    "                          num_trees=9, \n",
    "                          max_depth=20, \n",
    "                          impurity_thresh=0.01)\n",
    "classifier.fit(X_train, y_train)\n",
    "\n",
    "y_train_hat = classifier.predict(X_train)\n",
    "y_validation_hat = classifier.predict(X_validation)\n",
    "\n",
    "train_acc = sum(y_train==y_train_hat) / len(y_train_hat)\n",
    "valid_acc = sum(y_validation==y_validation_hat) / len(y_validation_hat)\n",
    "\n",
    "print(\"train accuracy: \", train_acc)\n",
    "print(\"validation accuracy: \", valid_acc)"
   ]
  },
  {
   "cell_type": "markdown",
   "metadata": {},
   "source": [
    "## 3. Stating the splits when predicting\n",
    "\n",
    "**In order to print the split statements, we set \"suppress_print\" as false.**\n",
    "\n",
    "**For a sample result, we just use the first sample of the validation set.**"
   ]
  },
  {
   "cell_type": "code",
   "execution_count": 28,
   "metadata": {},
   "outputs": [
    {
     "name": "stdout",
     "output_type": "stream",
     "text": [
      "(creative) < 1.0\n",
      "(prescription) >= 2.0\n",
      "Therfore this email was Spam\n"
     ]
    },
    {
     "data": {
      "text/plain": [
       "array([1.])"
      ]
     },
     "execution_count": 28,
     "metadata": {},
     "output_type": "execute_result"
    }
   ],
   "source": [
    "classifier = DecisionTree(max_depth=3, impurity_thresh=0.01)\n",
    "classifier.train(X_train, y_train, 0)\n",
    "classifier.predict(X_validation[0:1, :], suppress_print=False)"
   ]
  },
  {
   "cell_type": "markdown",
   "metadata": {},
   "source": [
    "## 4. Varying maximum depths"
   ]
  },
  {
   "cell_type": "code",
   "execution_count": 29,
   "metadata": {},
   "outputs": [],
   "source": [
    "# 80 / 20 random split\n",
    "\n",
    "train_indices = np.random.choice(range(X.shape[0]), \n",
    "                                 int(X.shape[0] * 0.8),\n",
    "                                 replace=False)\n",
    "\n",
    "train_mask = np.zeros(X.shape[0], dtype=bool)\n",
    "train_mask[train_indices] = True\n",
    "\n",
    "X_train = X[train_mask]\n",
    "y_train = y[train_mask]\n",
    "X_validation = X[~train_mask]\n",
    "y_validation = y[~train_mask]"
   ]
  },
  {
   "cell_type": "code",
   "execution_count": 31,
   "metadata": {},
   "outputs": [],
   "source": [
    "tree_accs = []\n",
    "depths = np.arange(1, 41)\n",
    "for max_depth in depths:\n",
    "    classifier = DecisionTree(max_depth=max_depth, impurity_thresh=0.01)\n",
    "    classifier.train(X_train, y_train, 0)\n",
    "    y_validation_hat = classifier.predict(X_validation)\n",
    "    acc = sum(y_validation==y_validation_hat) / len(y_validation_hat)\n",
    "    tree_accs.append(acc)"
   ]
  },
  {
   "cell_type": "code",
   "execution_count": 32,
   "metadata": {},
   "outputs": [
    {
     "data": {
      "text/plain": [
       "[<matplotlib.lines.Line2D at 0x158e304d9e8>]"
      ]
     },
     "execution_count": 32,
     "metadata": {},
     "output_type": "execute_result"
    },
    {
     "data": {
      "image/png": "[encoded data removed]",
      "text/plain": [
       "<Figure size 432x288 with 1 Axes>"
      ]
     },
     "metadata": {
      "needs_background": "light"
     },
     "output_type": "display_data"
    }
   ],
   "source": [
    "plt.plot(depths, tree_accs)"
   ]
  },
  {
   "cell_type": "markdown",
   "metadata": {},
   "source": [
    "## 5. Printing Decision Tree\n",
    "\n",
    "**Here, the left subtree is printed above the right subtree.**"
   ]
  },
  {
   "cell_type": "code",
   "execution_count": 41,
   "metadata": {
    "scrolled": false
   },
   "outputs": [
    {
     "name": "stdout",
     "output_type": "stream",
     "text": [
      "(word: creative, thresh: 1.0)\n",
      "  └---(word: private, thresh: 0.5)\n",
      "        └---label: Ham\n",
      "        └---label: Spam\n",
      "  └---(word: drug, thresh: 1.0)\n",
      "        └---label: Spam\n",
      "        └---(word: prescription, thresh: 1.5)\n",
      "              └---label: Spam\n",
      "              └---(word: prescription, thresh: 0.5)\n",
      "                    └---label: Spam\n",
      "                    └---label: Ham\n"
     ]
    }
   ],
   "source": [
    "classifier = DecisionTree(max_depth=3, impurity_thresh=0.01)\n",
    "classifier.train(X_train, y_train, 0)\n",
    "print(classifier)"
   ]
  }
 ],
 "metadata": {
  "kernelspec": {
   "display_name": "Python 3",
   "language": "python",
   "name": "python3"
  },
  "language_info": {
   "codemirror_mode": {
    "name": "ipython",
    "version": 3
   },
   "file_extension": ".py",
   "mimetype": "text/x-python",
   "name": "python",
   "nbconvert_exporter": "python",
   "pygments_lexer": "ipython3",
   "version": "3.7.0"
  }
 },
 "nbformat": 4,
 "nbformat_minor": 2
}
